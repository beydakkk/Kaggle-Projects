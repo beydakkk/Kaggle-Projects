{
 "cells": [
  {
   "cell_type": "markdown",
   "metadata": {},
   "source": [
    "# New York Taxi Fare Amount Prediction\n",
    "\n",
    "Kaggle Link : https://www.kaggle.com/competitions/new-york-city-taxi-fare-prediction"
   ]
  },
  {
   "cell_type": "code",
   "execution_count": 1,
   "metadata": {
    "_cell_guid": "b1076dfc-b9ad-4769-8c92-a6c4dae69d19",
    "_uuid": "8f2839f25d086af736a60e9eeb907d3b93b6e0e5",
    "execution": {
     "iopub.execute_input": "2023-02-02T22:50:46.438071Z",
     "iopub.status.busy": "2023-02-02T22:50:46.437229Z",
     "iopub.status.idle": "2023-02-02T22:50:48.031924Z",
     "shell.execute_reply": "2023-02-02T22:50:48.030461Z",
     "shell.execute_reply.started": "2023-02-02T22:50:46.437933Z"
    }
   },
   "outputs": [
    {
     "name": "stdout",
     "output_type": "stream",
     "text": [
      "/kaggle/input/new-york-city-taxi-fare-prediction/sample_submission.csv\n",
      "/kaggle/input/new-york-city-taxi-fare-prediction/GCP-Coupons-Instructions.rtf\n",
      "/kaggle/input/new-york-city-taxi-fare-prediction/train.csv\n",
      "/kaggle/input/new-york-city-taxi-fare-prediction/test.csv\n"
     ]
    }
   ],
   "source": [
    "# This Python 3 environment comes with many helpful analytics libraries installed\n",
    "# It is defined by the kaggle/python Docker image: https://github.com/kaggle/docker-python\n",
    "# For example, here's several helpful packages to load\n",
    "\n",
    "import numpy as np # linear algebra\n",
    "import pandas as pd # data processing, CSV file I/O (e.g. pd.read_csv)\n",
    "\n",
    "import os\n",
    "for dirname, _, filenames in os.walk('/kaggle/input'):\n",
    "    for filename in filenames:\n",
    "        print(os.path.join(dirname, filename))\n",
    "\n",
    "import sklearn\n",
    "import seaborn as sns\n",
    "import matplotlib.pyplot as plt\n",
    "from sklearn.model_selection import  train_test_split\n",
    "import xgboost as xgb\n",
    "from sklearn.preprocessing import StandardScaler\n",
    "from sklearn.metrics import accuracy_score\n",
    "from sklearn.metrics import mean_squared_error as MSE"
   ]
  },
  {
   "cell_type": "code",
   "execution_count": 2,
   "metadata": {
    "execution": {
     "iopub.execute_input": "2023-02-02T22:50:48.035703Z",
     "iopub.status.busy": "2023-02-02T22:50:48.034847Z",
     "iopub.status.idle": "2023-02-02T22:50:52.293917Z",
     "shell.execute_reply": "2023-02-02T22:50:52.292344Z",
     "shell.execute_reply.started": "2023-02-02T22:50:48.035647Z"
    }
   },
   "outputs": [],
   "source": [
    "train = pd.read_csv(\"../input/new-york-city-taxi-fare-prediction/train.csv\", nrows = 1000000)\n",
    "test = pd.read_csv(\"../input/new-york-city-taxi-fare-prediction/test.csv\")"
   ]
  },
  {
   "cell_type": "code",
   "execution_count": 3,
   "metadata": {
    "execution": {
     "iopub.execute_input": "2023-02-02T22:50:59.160998Z",
     "iopub.status.busy": "2023-02-02T22:50:59.160509Z",
     "iopub.status.idle": "2023-02-02T22:50:59.189820Z",
     "shell.execute_reply": "2023-02-02T22:50:59.188343Z",
     "shell.execute_reply.started": "2023-02-02T22:50:59.160960Z"
    }
   },
   "outputs": [
    {
     "data": {
      "text/html": [
       "<div>\n",
       "<style scoped>\n",
       "    .dataframe tbody tr th:only-of-type {\n",
       "        vertical-align: middle;\n",
       "    }\n",
       "\n",
       "    .dataframe tbody tr th {\n",
       "        vertical-align: top;\n",
       "    }\n",
       "\n",
       "    .dataframe thead th {\n",
       "        text-align: right;\n",
       "    }\n",
       "</style>\n",
       "<table border=\"1\" class=\"dataframe\">\n",
       "  <thead>\n",
       "    <tr style=\"text-align: right;\">\n",
       "      <th></th>\n",
       "      <th>key</th>\n",
       "      <th>fare_amount</th>\n",
       "      <th>pickup_datetime</th>\n",
       "      <th>pickup_longitude</th>\n",
       "      <th>pickup_latitude</th>\n",
       "      <th>dropoff_longitude</th>\n",
       "      <th>dropoff_latitude</th>\n",
       "      <th>passenger_count</th>\n",
       "    </tr>\n",
       "  </thead>\n",
       "  <tbody>\n",
       "    <tr>\n",
       "      <th>0</th>\n",
       "      <td>2009-06-15 17:26:21.0000001</td>\n",
       "      <td>4.5</td>\n",
       "      <td>2009-06-15 17:26:21 UTC</td>\n",
       "      <td>-73.844311</td>\n",
       "      <td>40.721319</td>\n",
       "      <td>-73.841610</td>\n",
       "      <td>40.712278</td>\n",
       "      <td>1</td>\n",
       "    </tr>\n",
       "    <tr>\n",
       "      <th>1</th>\n",
       "      <td>2010-01-05 16:52:16.0000002</td>\n",
       "      <td>16.9</td>\n",
       "      <td>2010-01-05 16:52:16 UTC</td>\n",
       "      <td>-74.016048</td>\n",
       "      <td>40.711303</td>\n",
       "      <td>-73.979268</td>\n",
       "      <td>40.782004</td>\n",
       "      <td>1</td>\n",
       "    </tr>\n",
       "    <tr>\n",
       "      <th>2</th>\n",
       "      <td>2011-08-18 00:35:00.00000049</td>\n",
       "      <td>5.7</td>\n",
       "      <td>2011-08-18 00:35:00 UTC</td>\n",
       "      <td>-73.982738</td>\n",
       "      <td>40.761270</td>\n",
       "      <td>-73.991242</td>\n",
       "      <td>40.750562</td>\n",
       "      <td>2</td>\n",
       "    </tr>\n",
       "    <tr>\n",
       "      <th>3</th>\n",
       "      <td>2012-04-21 04:30:42.0000001</td>\n",
       "      <td>7.7</td>\n",
       "      <td>2012-04-21 04:30:42 UTC</td>\n",
       "      <td>-73.987130</td>\n",
       "      <td>40.733143</td>\n",
       "      <td>-73.991567</td>\n",
       "      <td>40.758092</td>\n",
       "      <td>1</td>\n",
       "    </tr>\n",
       "    <tr>\n",
       "      <th>4</th>\n",
       "      <td>2010-03-09 07:51:00.000000135</td>\n",
       "      <td>5.3</td>\n",
       "      <td>2010-03-09 07:51:00 UTC</td>\n",
       "      <td>-73.968095</td>\n",
       "      <td>40.768008</td>\n",
       "      <td>-73.956655</td>\n",
       "      <td>40.783762</td>\n",
       "      <td>1</td>\n",
       "    </tr>\n",
       "  </tbody>\n",
       "</table>\n",
       "</div>"
      ],
      "text/plain": [
       "                             key  fare_amount          pickup_datetime  \\\n",
       "0    2009-06-15 17:26:21.0000001          4.5  2009-06-15 17:26:21 UTC   \n",
       "1    2010-01-05 16:52:16.0000002         16.9  2010-01-05 16:52:16 UTC   \n",
       "2   2011-08-18 00:35:00.00000049          5.7  2011-08-18 00:35:00 UTC   \n",
       "3    2012-04-21 04:30:42.0000001          7.7  2012-04-21 04:30:42 UTC   \n",
       "4  2010-03-09 07:51:00.000000135          5.3  2010-03-09 07:51:00 UTC   \n",
       "\n",
       "   pickup_longitude  pickup_latitude  dropoff_longitude  dropoff_latitude  \\\n",
       "0        -73.844311        40.721319         -73.841610         40.712278   \n",
       "1        -74.016048        40.711303         -73.979268         40.782004   \n",
       "2        -73.982738        40.761270         -73.991242         40.750562   \n",
       "3        -73.987130        40.733143         -73.991567         40.758092   \n",
       "4        -73.968095        40.768008         -73.956655         40.783762   \n",
       "\n",
       "   passenger_count  \n",
       "0                1  \n",
       "1                1  \n",
       "2                2  \n",
       "3                1  \n",
       "4                1  "
      ]
     },
     "execution_count": 3,
     "metadata": {},
     "output_type": "execute_result"
    }
   ],
   "source": [
    "train.head()"
   ]
  },
  {
   "cell_type": "code",
   "execution_count": 4,
   "metadata": {
    "execution": {
     "iopub.execute_input": "2023-02-02T22:51:04.657121Z",
     "iopub.status.busy": "2023-02-02T22:51:04.655599Z",
     "iopub.status.idle": "2023-02-02T22:51:04.677088Z",
     "shell.execute_reply": "2023-02-02T22:51:04.675676Z",
     "shell.execute_reply.started": "2023-02-02T22:51:04.657074Z"
    }
   },
   "outputs": [
    {
     "data": {
      "text/html": [
       "<div>\n",
       "<style scoped>\n",
       "    .dataframe tbody tr th:only-of-type {\n",
       "        vertical-align: middle;\n",
       "    }\n",
       "\n",
       "    .dataframe tbody tr th {\n",
       "        vertical-align: top;\n",
       "    }\n",
       "\n",
       "    .dataframe thead th {\n",
       "        text-align: right;\n",
       "    }\n",
       "</style>\n",
       "<table border=\"1\" class=\"dataframe\">\n",
       "  <thead>\n",
       "    <tr style=\"text-align: right;\">\n",
       "      <th></th>\n",
       "      <th>key</th>\n",
       "      <th>pickup_datetime</th>\n",
       "      <th>pickup_longitude</th>\n",
       "      <th>pickup_latitude</th>\n",
       "      <th>dropoff_longitude</th>\n",
       "      <th>dropoff_latitude</th>\n",
       "      <th>passenger_count</th>\n",
       "    </tr>\n",
       "  </thead>\n",
       "  <tbody>\n",
       "    <tr>\n",
       "      <th>0</th>\n",
       "      <td>2015-01-27 13:08:24.0000002</td>\n",
       "      <td>2015-01-27 13:08:24 UTC</td>\n",
       "      <td>-73.973320</td>\n",
       "      <td>40.763805</td>\n",
       "      <td>-73.981430</td>\n",
       "      <td>40.743835</td>\n",
       "      <td>1</td>\n",
       "    </tr>\n",
       "    <tr>\n",
       "      <th>1</th>\n",
       "      <td>2015-01-27 13:08:24.0000003</td>\n",
       "      <td>2015-01-27 13:08:24 UTC</td>\n",
       "      <td>-73.986862</td>\n",
       "      <td>40.719383</td>\n",
       "      <td>-73.998886</td>\n",
       "      <td>40.739201</td>\n",
       "      <td>1</td>\n",
       "    </tr>\n",
       "    <tr>\n",
       "      <th>2</th>\n",
       "      <td>2011-10-08 11:53:44.0000002</td>\n",
       "      <td>2011-10-08 11:53:44 UTC</td>\n",
       "      <td>-73.982524</td>\n",
       "      <td>40.751260</td>\n",
       "      <td>-73.979654</td>\n",
       "      <td>40.746139</td>\n",
       "      <td>1</td>\n",
       "    </tr>\n",
       "    <tr>\n",
       "      <th>3</th>\n",
       "      <td>2012-12-01 21:12:12.0000002</td>\n",
       "      <td>2012-12-01 21:12:12 UTC</td>\n",
       "      <td>-73.981160</td>\n",
       "      <td>40.767807</td>\n",
       "      <td>-73.990448</td>\n",
       "      <td>40.751635</td>\n",
       "      <td>1</td>\n",
       "    </tr>\n",
       "    <tr>\n",
       "      <th>4</th>\n",
       "      <td>2012-12-01 21:12:12.0000003</td>\n",
       "      <td>2012-12-01 21:12:12 UTC</td>\n",
       "      <td>-73.966046</td>\n",
       "      <td>40.789775</td>\n",
       "      <td>-73.988565</td>\n",
       "      <td>40.744427</td>\n",
       "      <td>1</td>\n",
       "    </tr>\n",
       "  </tbody>\n",
       "</table>\n",
       "</div>"
      ],
      "text/plain": [
       "                           key          pickup_datetime  pickup_longitude  \\\n",
       "0  2015-01-27 13:08:24.0000002  2015-01-27 13:08:24 UTC        -73.973320   \n",
       "1  2015-01-27 13:08:24.0000003  2015-01-27 13:08:24 UTC        -73.986862   \n",
       "2  2011-10-08 11:53:44.0000002  2011-10-08 11:53:44 UTC        -73.982524   \n",
       "3  2012-12-01 21:12:12.0000002  2012-12-01 21:12:12 UTC        -73.981160   \n",
       "4  2012-12-01 21:12:12.0000003  2012-12-01 21:12:12 UTC        -73.966046   \n",
       "\n",
       "   pickup_latitude  dropoff_longitude  dropoff_latitude  passenger_count  \n",
       "0        40.763805         -73.981430         40.743835                1  \n",
       "1        40.719383         -73.998886         40.739201                1  \n",
       "2        40.751260         -73.979654         40.746139                1  \n",
       "3        40.767807         -73.990448         40.751635                1  \n",
       "4        40.789775         -73.988565         40.744427                1  "
      ]
     },
     "execution_count": 4,
     "metadata": {},
     "output_type": "execute_result"
    }
   ],
   "source": [
    "test.head()"
   ]
  },
  {
   "cell_type": "code",
   "execution_count": 5,
   "metadata": {
    "execution": {
     "iopub.execute_input": "2023-02-02T22:51:53.326970Z",
     "iopub.status.busy": "2023-02-02T22:51:53.326558Z",
     "iopub.status.idle": "2023-02-02T22:51:53.334211Z",
     "shell.execute_reply": "2023-02-02T22:51:53.333185Z",
     "shell.execute_reply.started": "2023-02-02T22:51:53.326918Z"
    }
   },
   "outputs": [
    {
     "data": {
      "text/plain": [
       "((1000000, 8), (9914, 7))"
      ]
     },
     "execution_count": 5,
     "metadata": {},
     "output_type": "execute_result"
    }
   ],
   "source": [
    "train.shape,test.shape"
   ]
  },
  {
   "cell_type": "code",
   "execution_count": 6,
   "metadata": {
    "execution": {
     "iopub.execute_input": "2023-02-02T22:51:53.338029Z",
     "iopub.status.busy": "2023-02-02T22:51:53.337427Z",
     "iopub.status.idle": "2023-02-02T22:51:53.450543Z",
     "shell.execute_reply": "2023-02-02T22:51:53.449238Z",
     "shell.execute_reply.started": "2023-02-02T22:51:53.337983Z"
    }
   },
   "outputs": [
    {
     "data": {
      "text/plain": [
       "key                   0\n",
       "fare_amount           0\n",
       "pickup_datetime       0\n",
       "pickup_longitude      0\n",
       "pickup_latitude       0\n",
       "dropoff_longitude    10\n",
       "dropoff_latitude     10\n",
       "passenger_count       0\n",
       "dtype: int64"
      ]
     },
     "execution_count": 6,
     "metadata": {},
     "output_type": "execute_result"
    }
   ],
   "source": [
    "train.isnull().sum()"
   ]
  },
  {
   "cell_type": "code",
   "execution_count": 7,
   "metadata": {
    "execution": {
     "iopub.execute_input": "2023-02-02T22:52:41.162757Z",
     "iopub.status.busy": "2023-02-02T22:52:41.162325Z",
     "iopub.status.idle": "2023-02-02T22:52:41.346601Z",
     "shell.execute_reply": "2023-02-02T22:52:41.345255Z",
     "shell.execute_reply.started": "2023-02-02T22:52:41.162727Z"
    }
   },
   "outputs": [],
   "source": [
    "train = train.dropna(how ='any', axis ='rows') # eliminated rows with null values"
   ]
  },
  {
   "cell_type": "code",
   "execution_count": 9,
   "metadata": {
    "execution": {
     "iopub.execute_input": "2023-02-02T22:54:21.416302Z",
     "iopub.status.busy": "2023-02-02T22:54:21.415591Z",
     "iopub.status.idle": "2023-02-02T22:54:21.539857Z",
     "shell.execute_reply": "2023-02-02T22:54:21.538242Z",
     "shell.execute_reply.started": "2023-02-02T22:54:21.416264Z"
    }
   },
   "outputs": [
    {
     "name": "stdout",
     "output_type": "stream",
     "text": [
      "<class 'pandas.core.frame.DataFrame'>\n",
      "Int64Index: 999990 entries, 0 to 999999\n",
      "Data columns (total 8 columns):\n",
      " #   Column             Non-Null Count   Dtype  \n",
      "---  ------             --------------   -----  \n",
      " 0   key                999990 non-null  object \n",
      " 1   fare_amount        999990 non-null  float64\n",
      " 2   pickup_datetime    999990 non-null  object \n",
      " 3   pickup_longitude   999990 non-null  float64\n",
      " 4   pickup_latitude    999990 non-null  float64\n",
      " 5   dropoff_longitude  999990 non-null  float64\n",
      " 6   dropoff_latitude   999990 non-null  float64\n",
      " 7   passenger_count    999990 non-null  int64  \n",
      "dtypes: float64(5), int64(1), object(2)\n",
      "memory usage: 68.7+ MB\n"
     ]
    }
   ],
   "source": [
    "train.info()"
   ]
  },
  {
   "cell_type": "code",
   "execution_count": 10,
   "metadata": {
    "execution": {
     "iopub.execute_input": "2023-02-02T22:54:26.154004Z",
     "iopub.status.busy": "2023-02-02T22:54:26.153494Z",
     "iopub.status.idle": "2023-02-02T22:54:26.225376Z",
     "shell.execute_reply": "2023-02-02T22:54:26.223707Z",
     "shell.execute_reply.started": "2023-02-02T22:54:26.153968Z"
    }
   },
   "outputs": [
    {
     "data": {
      "text/plain": [
       "count    999990.000000\n",
       "mean         11.347953\n",
       "std           9.821790\n",
       "min         -44.900000\n",
       "25%           6.000000\n",
       "50%           8.500000\n",
       "75%          12.500000\n",
       "max         500.000000\n",
       "Name: fare_amount, dtype: float64"
      ]
     },
     "execution_count": 10,
     "metadata": {},
     "output_type": "execute_result"
    }
   ],
   "source": [
    "train['fare_amount'].describe()"
   ]
  },
  {
   "cell_type": "code",
   "execution_count": 11,
   "metadata": {
    "execution": {
     "iopub.execute_input": "2023-02-02T22:54:33.735971Z",
     "iopub.status.busy": "2023-02-02T22:54:33.735447Z",
     "iopub.status.idle": "2023-02-02T22:54:33.848907Z",
     "shell.execute_reply": "2023-02-02T22:54:33.847915Z",
     "shell.execute_reply.started": "2023-02-02T22:54:33.735917Z"
    }
   },
   "outputs": [],
   "source": [
    "train.drop(train[train['passenger_count'] == 0].index, axis=0, inplace = True)"
   ]
  },
  {
   "cell_type": "code",
   "execution_count": 13,
   "metadata": {
    "execution": {
     "iopub.execute_input": "2023-02-02T22:58:34.570515Z",
     "iopub.status.busy": "2023-02-02T22:58:34.570015Z",
     "iopub.status.idle": "2023-02-02T23:01:03.782280Z",
     "shell.execute_reply": "2023-02-02T23:01:03.780676Z",
     "shell.execute_reply.started": "2023-02-02T22:58:34.570479Z"
    }
   },
   "outputs": [],
   "source": [
    "train['pickup_datetime'] = pd.to_datetime(train.pickup_datetime)\n",
    "test['pickup_datetime'] = pd.to_datetime(test.pickup_datetime)"
   ]
  },
  {
   "cell_type": "code",
   "execution_count": 15,
   "metadata": {
    "execution": {
     "iopub.execute_input": "2023-02-02T23:02:10.887555Z",
     "iopub.status.busy": "2023-02-02T23:02:10.887002Z",
     "iopub.status.idle": "2023-02-02T23:02:11.899761Z",
     "shell.execute_reply": "2023-02-02T23:02:11.898527Z",
     "shell.execute_reply.started": "2023-02-02T23:02:10.887509Z"
    }
   },
   "outputs": [],
   "source": [
    "train.loc[:, 'pickup_hour'] = train['pickup_datetime'].dt.hour\n",
    "train.loc[:, 'pickup_weekday'] = train['pickup_datetime'].dt.day_name()\n",
    "train.loc[:, 'pickup_date'] = train['pickup_datetime'].dt.day\n",
    "train.loc[:, 'pickup_month'] = train['pickup_datetime'].dt.month\n",
    "train.loc[:, 'pickup_day'] = train['pickup_datetime'].dt.dayofweek\n",
    "test.loc[:, 'pickup_hour'] = test['pickup_datetime'].dt.hour\n",
    "test.loc[:, 'pickup_weekday'] = test['pickup_datetime'].dt.day_name()\n",
    "test.loc[:, 'pickup_date'] = test['pickup_datetime'].dt.day\n",
    "test.loc[:, 'pickup_month'] = test['pickup_datetime'].dt.month\n",
    "test.loc[:, 'pickup_day'] = test['pickup_datetime'].dt.dayofweek"
   ]
  },
  {
   "cell_type": "code",
   "execution_count": 16,
   "metadata": {
    "execution": {
     "iopub.execute_input": "2023-02-02T23:02:20.464679Z",
     "iopub.status.busy": "2023-02-02T23:02:20.464167Z",
     "iopub.status.idle": "2023-02-02T23:02:20.676863Z",
     "shell.execute_reply": "2023-02-02T23:02:20.675406Z",
     "shell.execute_reply.started": "2023-02-02T23:02:20.464630Z"
    }
   },
   "outputs": [],
   "source": [
    "train.drop(['key','pickup_datetime'], axis=1,inplace=True)"
   ]
  },
  {
   "cell_type": "markdown",
   "metadata": {},
   "source": [
    "The city of New York longitude ranges between -75 and -72. The latitude ranges between 40 and 42. So,"
   ]
  },
  {
   "cell_type": "code",
   "execution_count": 17,
   "metadata": {
    "execution": {
     "iopub.execute_input": "2023-02-02T23:02:27.075008Z",
     "iopub.status.busy": "2023-02-02T23:02:27.074479Z",
     "iopub.status.idle": "2023-02-02T23:02:27.526299Z",
     "shell.execute_reply": "2023-02-02T23:02:27.524920Z",
     "shell.execute_reply.started": "2023-02-02T23:02:27.074970Z"
    }
   },
   "outputs": [],
   "source": [
    "train.dropna(inplace=True)\n",
    "\n",
    "train.drop(train.index[(train.pickup_longitude < -75) | \n",
    "           (train.pickup_longitude > -72) | \n",
    "           (train.pickup_latitude < 40) | \n",
    "           (train.pickup_latitude > 42)],inplace=True)\n",
    "train.drop(train.index[(train.dropoff_longitude < -75) | \n",
    "           (train.dropoff_longitude > -72) | \n",
    "           (train.dropoff_latitude < 40) | \n",
    "           (train.dropoff_latitude > 42)],inplace=True)"
   ]
  },
  {
   "cell_type": "code",
   "execution_count": 19,
   "metadata": {
    "execution": {
     "iopub.execute_input": "2023-02-02T23:03:04.708292Z",
     "iopub.status.busy": "2023-02-02T23:03:04.707778Z",
     "iopub.status.idle": "2023-02-02T23:03:04.736505Z",
     "shell.execute_reply": "2023-02-02T23:03:04.734897Z",
     "shell.execute_reply.started": "2023-02-02T23:03:04.708252Z"
    }
   },
   "outputs": [
    {
     "data": {
      "text/html": [
       "<div>\n",
       "<style scoped>\n",
       "    .dataframe tbody tr th:only-of-type {\n",
       "        vertical-align: middle;\n",
       "    }\n",
       "\n",
       "    .dataframe tbody tr th {\n",
       "        vertical-align: top;\n",
       "    }\n",
       "\n",
       "    .dataframe thead th {\n",
       "        text-align: right;\n",
       "    }\n",
       "</style>\n",
       "<table border=\"1\" class=\"dataframe\">\n",
       "  <thead>\n",
       "    <tr style=\"text-align: right;\">\n",
       "      <th></th>\n",
       "      <th>fare_amount</th>\n",
       "      <th>pickup_longitude</th>\n",
       "      <th>pickup_latitude</th>\n",
       "      <th>dropoff_longitude</th>\n",
       "      <th>dropoff_latitude</th>\n",
       "      <th>passenger_count</th>\n",
       "      <th>pickup_hour</th>\n",
       "      <th>pickup_weekday</th>\n",
       "      <th>pickup_date</th>\n",
       "      <th>pickup_month</th>\n",
       "      <th>pickup_day</th>\n",
       "    </tr>\n",
       "  </thead>\n",
       "  <tbody>\n",
       "    <tr>\n",
       "      <th>0</th>\n",
       "      <td>4.5</td>\n",
       "      <td>-73.844311</td>\n",
       "      <td>40.721319</td>\n",
       "      <td>-73.841610</td>\n",
       "      <td>40.712278</td>\n",
       "      <td>1</td>\n",
       "      <td>17</td>\n",
       "      <td>Monday</td>\n",
       "      <td>15</td>\n",
       "      <td>6</td>\n",
       "      <td>0</td>\n",
       "    </tr>\n",
       "    <tr>\n",
       "      <th>1</th>\n",
       "      <td>16.9</td>\n",
       "      <td>-74.016048</td>\n",
       "      <td>40.711303</td>\n",
       "      <td>-73.979268</td>\n",
       "      <td>40.782004</td>\n",
       "      <td>1</td>\n",
       "      <td>16</td>\n",
       "      <td>Tuesday</td>\n",
       "      <td>5</td>\n",
       "      <td>1</td>\n",
       "      <td>1</td>\n",
       "    </tr>\n",
       "    <tr>\n",
       "      <th>2</th>\n",
       "      <td>5.7</td>\n",
       "      <td>-73.982738</td>\n",
       "      <td>40.761270</td>\n",
       "      <td>-73.991242</td>\n",
       "      <td>40.750562</td>\n",
       "      <td>2</td>\n",
       "      <td>0</td>\n",
       "      <td>Thursday</td>\n",
       "      <td>18</td>\n",
       "      <td>8</td>\n",
       "      <td>3</td>\n",
       "    </tr>\n",
       "    <tr>\n",
       "      <th>3</th>\n",
       "      <td>7.7</td>\n",
       "      <td>-73.987130</td>\n",
       "      <td>40.733143</td>\n",
       "      <td>-73.991567</td>\n",
       "      <td>40.758092</td>\n",
       "      <td>1</td>\n",
       "      <td>4</td>\n",
       "      <td>Saturday</td>\n",
       "      <td>21</td>\n",
       "      <td>4</td>\n",
       "      <td>5</td>\n",
       "    </tr>\n",
       "    <tr>\n",
       "      <th>4</th>\n",
       "      <td>5.3</td>\n",
       "      <td>-73.968095</td>\n",
       "      <td>40.768008</td>\n",
       "      <td>-73.956655</td>\n",
       "      <td>40.783762</td>\n",
       "      <td>1</td>\n",
       "      <td>7</td>\n",
       "      <td>Tuesday</td>\n",
       "      <td>9</td>\n",
       "      <td>3</td>\n",
       "      <td>1</td>\n",
       "    </tr>\n",
       "  </tbody>\n",
       "</table>\n",
       "</div>"
      ],
      "text/plain": [
       "   fare_amount  pickup_longitude  pickup_latitude  dropoff_longitude  \\\n",
       "0          4.5        -73.844311        40.721319         -73.841610   \n",
       "1         16.9        -74.016048        40.711303         -73.979268   \n",
       "2          5.7        -73.982738        40.761270         -73.991242   \n",
       "3          7.7        -73.987130        40.733143         -73.991567   \n",
       "4          5.3        -73.968095        40.768008         -73.956655   \n",
       "\n",
       "   dropoff_latitude  passenger_count  pickup_hour pickup_weekday  pickup_date  \\\n",
       "0         40.712278                1           17         Monday           15   \n",
       "1         40.782004                1           16        Tuesday            5   \n",
       "2         40.750562                2            0       Thursday           18   \n",
       "3         40.758092                1            4       Saturday           21   \n",
       "4         40.783762                1            7        Tuesday            9   \n",
       "\n",
       "   pickup_month  pickup_day  \n",
       "0             6           0  \n",
       "1             1           1  \n",
       "2             8           3  \n",
       "3             4           5  \n",
       "4             3           1  "
      ]
     },
     "execution_count": 19,
     "metadata": {},
     "output_type": "execute_result"
    }
   ],
   "source": [
    "train.head()"
   ]
  },
  {
   "cell_type": "code",
   "execution_count": 25,
   "metadata": {
    "execution": {
     "iopub.execute_input": "2023-02-02T23:04:46.412248Z",
     "iopub.status.busy": "2023-02-02T23:04:46.411679Z",
     "iopub.status.idle": "2023-02-02T23:04:46.463845Z",
     "shell.execute_reply": "2023-02-02T23:04:46.462570Z",
     "shell.execute_reply.started": "2023-02-02T23:04:46.412206Z"
    }
   },
   "outputs": [],
   "source": [
    "train = train.drop(['pickup_weekday'],axis=1)"
   ]
  },
  {
   "cell_type": "markdown",
   "metadata": {},
   "source": [
    "## Model Training"
   ]
  },
  {
   "cell_type": "code",
   "execution_count": 27,
   "metadata": {
    "execution": {
     "iopub.execute_input": "2023-02-02T23:05:00.410530Z",
     "iopub.status.busy": "2023-02-02T23:05:00.410069Z",
     "iopub.status.idle": "2023-02-02T23:05:00.664827Z",
     "shell.execute_reply": "2023-02-02T23:05:00.663488Z",
     "shell.execute_reply.started": "2023-02-02T23:05:00.410496Z"
    }
   },
   "outputs": [],
   "source": [
    "x, y = train.drop('fare_amount', axis = 1), train['fare_amount']\n",
    "x_train, x_test, y_train, y_test = train_test_split(x, y, test_size=0.2, random_state=12)"
   ]
  },
  {
   "cell_type": "code",
   "execution_count": 28,
   "metadata": {
    "execution": {
     "iopub.execute_input": "2023-02-02T23:05:00.794262Z",
     "iopub.status.busy": "2023-02-02T23:05:00.792906Z",
     "iopub.status.idle": "2023-02-02T23:05:00.950074Z",
     "shell.execute_reply": "2023-02-02T23:05:00.948616Z",
     "shell.execute_reply.started": "2023-02-02T23:05:00.794189Z"
    }
   },
   "outputs": [
    {
     "data": {
      "text/plain": [
       "array([[-0.50910543, -1.10240075, -0.8668322 , ..., -1.3472513 ,\n",
       "         0.5033584 , -1.5592937 ],\n",
       "       [-0.43654057,  0.27544186,  0.6601215 , ..., -1.46243925,\n",
       "         0.7942589 , -0.5337492 ],\n",
       "       [-0.74933517, -1.27666273, -0.76334361, ..., -0.08018377,\n",
       "        -0.3693431 ,  1.00456755],\n",
       "       ...,\n",
       "       [ 0.25570344,  0.7023167 ,  0.39967348, ...,  0.72613193,\n",
       "         0.5033584 ,  0.4917953 ],\n",
       "       [ 0.13827377,  0.40496543, -0.09778329, ...,  1.53244763,\n",
       "         1.3760599 , -1.5592937 ],\n",
       "       [-0.84636239, -0.40444798, -0.53941482, ..., -0.08018377,\n",
       "        -0.6602436 , -1.5592937 ]])"
      ]
     },
     "execution_count": 28,
     "metadata": {},
     "output_type": "execute_result"
    }
   ],
   "source": [
    "scaler = StandardScaler()\n",
    "scaler.fit_transform(x_train,x_test)"
   ]
  },
  {
   "cell_type": "code",
   "execution_count": 29,
   "metadata": {
    "execution": {
     "iopub.execute_input": "2023-02-02T23:05:18.726323Z",
     "iopub.status.busy": "2023-02-02T23:05:18.725179Z",
     "iopub.status.idle": "2023-02-02T23:05:18.733401Z",
     "shell.execute_reply": "2023-02-02T23:05:18.731801Z",
     "shell.execute_reply.started": "2023-02-02T23:05:18.726253Z"
    }
   },
   "outputs": [],
   "source": [
    "xgb_r = xgb.XGBRegressor(objective ='reg:linear',n_estimators = 400, seed = 123)"
   ]
  },
  {
   "cell_type": "code",
   "execution_count": 30,
   "metadata": {
    "execution": {
     "iopub.execute_input": "2023-02-02T23:05:26.491886Z",
     "iopub.status.busy": "2023-02-02T23:05:26.491350Z",
     "iopub.status.idle": "2023-02-02T23:09:21.940660Z",
     "shell.execute_reply": "2023-02-02T23:09:21.939682Z",
     "shell.execute_reply.started": "2023-02-02T23:05:26.491844Z"
    }
   },
   "outputs": [
    {
     "name": "stdout",
     "output_type": "stream",
     "text": [
      "[23:05:26] WARNING: ../src/objective/regression_obj.cu:203: reg:linear is now deprecated in favor of reg:squarederror.\n"
     ]
    },
    {
     "data": {
      "text/plain": [
       "XGBRegressor(base_score=0.5, booster='gbtree', callbacks=None,\n",
       "             colsample_bylevel=1, colsample_bynode=1, colsample_bytree=1,\n",
       "             early_stopping_rounds=None, enable_categorical=False,\n",
       "             eval_metric=None, gamma=0, gpu_id=-1, grow_policy='depthwise',\n",
       "             importance_type=None, interaction_constraints='',\n",
       "             learning_rate=0.300000012, max_bin=256, max_cat_to_onehot=4,\n",
       "             max_delta_step=0, max_depth=6, max_leaves=0, min_child_weight=1,\n",
       "             missing=nan, monotone_constraints='()', n_estimators=400, n_jobs=0,\n",
       "             num_parallel_tree=1, objective='reg:linear', predictor='auto',\n",
       "             random_state=123, reg_alpha=0, ...)"
      ]
     },
     "execution_count": 30,
     "metadata": {},
     "output_type": "execute_result"
    }
   ],
   "source": [
    "xgb_r.fit(x_train,y_train)"
   ]
  },
  {
   "cell_type": "code",
   "execution_count": 31,
   "metadata": {
    "execution": {
     "iopub.execute_input": "2023-02-02T23:09:21.942884Z",
     "iopub.status.busy": "2023-02-02T23:09:21.942348Z",
     "iopub.status.idle": "2023-02-02T23:09:22.684493Z",
     "shell.execute_reply": "2023-02-02T23:09:22.683140Z",
     "shell.execute_reply.started": "2023-02-02T23:09:21.942852Z"
    }
   },
   "outputs": [],
   "source": [
    "y_pred = xgb_r.predict(x_test)"
   ]
  },
  {
   "cell_type": "code",
   "execution_count": 32,
   "metadata": {
    "execution": {
     "iopub.execute_input": "2023-02-02T23:11:05.711172Z",
     "iopub.status.busy": "2023-02-02T23:11:05.710670Z",
     "iopub.status.idle": "2023-02-02T23:11:05.724460Z",
     "shell.execute_reply": "2023-02-02T23:11:05.722794Z",
     "shell.execute_reply.started": "2023-02-02T23:11:05.711136Z"
    }
   },
   "outputs": [
    {
     "data": {
      "text/plain": [
       "4.305091807264246"
      ]
     },
     "execution_count": 32,
     "metadata": {},
     "output_type": "execute_result"
    }
   ],
   "source": [
    "rmse = np.sqrt(MSE(y_test, y_pred))\n",
    "rmse"
   ]
  },
  {
   "cell_type": "code",
   "execution_count": 33,
   "metadata": {
    "execution": {
     "iopub.execute_input": "2023-02-02T23:11:26.028476Z",
     "iopub.status.busy": "2023-02-02T23:11:26.027978Z",
     "iopub.status.idle": "2023-02-02T23:11:26.039754Z",
     "shell.execute_reply": "2023-02-02T23:11:26.038348Z",
     "shell.execute_reply.started": "2023-02-02T23:11:26.028440Z"
    }
   },
   "outputs": [],
   "source": [
    "test.drop(['key','pickup_datetime'], axis=1,inplace=True)"
   ]
  },
  {
   "cell_type": "code",
   "execution_count": 34,
   "metadata": {
    "execution": {
     "iopub.execute_input": "2023-02-02T23:11:37.309021Z",
     "iopub.status.busy": "2023-02-02T23:11:37.308507Z",
     "iopub.status.idle": "2023-02-02T23:11:37.334395Z",
     "shell.execute_reply": "2023-02-02T23:11:37.333344Z",
     "shell.execute_reply.started": "2023-02-02T23:11:37.308983Z"
    }
   },
   "outputs": [],
   "source": [
    "test.dropna(inplace=True)\n",
    "\n",
    "test.drop(test.index[(test.pickup_longitude < -75) | \n",
    "           (test.pickup_longitude > -72) | \n",
    "           (test.pickup_latitude < 40) | \n",
    "           (test.pickup_latitude > 42)],inplace=True)\n",
    "test.drop(test.index[(test.dropoff_longitude < -75) | \n",
    "           (test.dropoff_longitude > -72) | \n",
    "           (test.dropoff_latitude < 40) | \n",
    "           (test.dropoff_latitude > 42)],inplace=True)"
   ]
  },
  {
   "cell_type": "code",
   "execution_count": 36,
   "metadata": {
    "execution": {
     "iopub.execute_input": "2023-02-02T23:12:49.744443Z",
     "iopub.status.busy": "2023-02-02T23:12:49.743461Z",
     "iopub.status.idle": "2023-02-02T23:12:49.751763Z",
     "shell.execute_reply": "2023-02-02T23:12:49.750571Z",
     "shell.execute_reply.started": "2023-02-02T23:12:49.744400Z"
    }
   },
   "outputs": [],
   "source": [
    "test.drop(['pickup_weekday'], axis=1,inplace=True)"
   ]
  },
  {
   "cell_type": "code",
   "execution_count": 37,
   "metadata": {
    "execution": {
     "iopub.execute_input": "2023-02-02T23:12:50.576411Z",
     "iopub.status.busy": "2023-02-02T23:12:50.575983Z",
     "iopub.status.idle": "2023-02-02T23:12:50.593209Z",
     "shell.execute_reply": "2023-02-02T23:12:50.591497Z",
     "shell.execute_reply.started": "2023-02-02T23:12:50.576376Z"
    }
   },
   "outputs": [
    {
     "data": {
      "text/plain": [
       "array([[ 0.03278367,  0.38058296, -0.19896544, ...,  1.22265065,\n",
       "        -1.74703242, -0.92904143],\n",
       "       [-0.28383094, -0.94387891, -0.64575618, ...,  1.22265065,\n",
       "        -1.74703242, -0.92904143],\n",
       "       [-0.18240469,  0.00653781, -0.15350703, ..., -0.92714831,\n",
       "         0.93704904,  1.07662393],\n",
       "       ...,\n",
       "       [-0.39460146, -0.72846192,  4.70733595, ...,  0.31747214,\n",
       "        -0.8523386 ,  1.57804027],\n",
       "       [-0.25368566, -0.46538934,  0.88247126, ...,  1.6752399 ,\n",
       "        -1.74703242,  1.07662393],\n",
       "       [-0.31094385,  0.09032734, -0.68149163, ...,  0.20432483,\n",
       "        -1.74703242,  1.57804027]])"
      ]
     },
     "execution_count": 37,
     "metadata": {},
     "output_type": "execute_result"
    }
   ],
   "source": [
    "scaler.fit_transform(test)"
   ]
  },
  {
   "cell_type": "code",
   "execution_count": 38,
   "metadata": {
    "execution": {
     "iopub.execute_input": "2023-02-02T23:12:59.330092Z",
     "iopub.status.busy": "2023-02-02T23:12:59.329654Z",
     "iopub.status.idle": "2023-02-02T23:12:59.388627Z",
     "shell.execute_reply": "2023-02-02T23:12:59.387438Z",
     "shell.execute_reply.started": "2023-02-02T23:12:59.330058Z"
    }
   },
   "outputs": [],
   "source": [
    "new_pred = xgb_r.predict(test)"
   ]
  },
  {
   "cell_type": "code",
   "execution_count": 39,
   "metadata": {
    "execution": {
     "iopub.execute_input": "2023-02-02T23:13:07.886642Z",
     "iopub.status.busy": "2023-02-02T23:13:07.886195Z",
     "iopub.status.idle": "2023-02-02T23:13:07.917054Z",
     "shell.execute_reply": "2023-02-02T23:13:07.915643Z",
     "shell.execute_reply.started": "2023-02-02T23:13:07.886609Z"
    }
   },
   "outputs": [],
   "source": [
    "sample_new=pd.read_csv('../input/new-york-city-taxi-fare-prediction/test.csv')"
   ]
  },
  {
   "cell_type": "code",
   "execution_count": 43,
   "metadata": {
    "execution": {
     "iopub.execute_input": "2023-02-02T23:14:48.279008Z",
     "iopub.status.busy": "2023-02-02T23:14:48.278512Z",
     "iopub.status.idle": "2023-02-02T23:14:48.287287Z",
     "shell.execute_reply": "2023-02-02T23:14:48.285839Z",
     "shell.execute_reply.started": "2023-02-02T23:14:48.278960Z"
    }
   },
   "outputs": [],
   "source": [
    "sample_new.drop(['pickup_datetime','pickup_longitude','pickup_latitude','dropoff_longitude','dropoff_latitude','passenger_count'], axis=1,inplace=True)"
   ]
  },
  {
   "cell_type": "code",
   "execution_count": 44,
   "metadata": {
    "execution": {
     "iopub.execute_input": "2023-02-02T23:14:56.743316Z",
     "iopub.status.busy": "2023-02-02T23:14:56.742742Z",
     "iopub.status.idle": "2023-02-02T23:14:56.749647Z",
     "shell.execute_reply": "2023-02-02T23:14:56.748791Z",
     "shell.execute_reply.started": "2023-02-02T23:14:56.743271Z"
    }
   },
   "outputs": [],
   "source": [
    "sample_new['fare_amount'] = new_pred"
   ]
  },
  {
   "cell_type": "code",
   "execution_count": 45,
   "metadata": {
    "execution": {
     "iopub.execute_input": "2023-02-02T23:15:02.072905Z",
     "iopub.status.busy": "2023-02-02T23:15:02.072340Z",
     "iopub.status.idle": "2023-02-02T23:15:02.085961Z",
     "shell.execute_reply": "2023-02-02T23:15:02.084532Z",
     "shell.execute_reply.started": "2023-02-02T23:15:02.072865Z"
    }
   },
   "outputs": [
    {
     "data": {
      "text/html": [
       "<div>\n",
       "<style scoped>\n",
       "    .dataframe tbody tr th:only-of-type {\n",
       "        vertical-align: middle;\n",
       "    }\n",
       "\n",
       "    .dataframe tbody tr th {\n",
       "        vertical-align: top;\n",
       "    }\n",
       "\n",
       "    .dataframe thead th {\n",
       "        text-align: right;\n",
       "    }\n",
       "</style>\n",
       "<table border=\"1\" class=\"dataframe\">\n",
       "  <thead>\n",
       "    <tr style=\"text-align: right;\">\n",
       "      <th></th>\n",
       "      <th>key</th>\n",
       "      <th>fare_amount</th>\n",
       "    </tr>\n",
       "  </thead>\n",
       "  <tbody>\n",
       "    <tr>\n",
       "      <th>0</th>\n",
       "      <td>2015-01-27 13:08:24.0000002</td>\n",
       "      <td>8.052094</td>\n",
       "    </tr>\n",
       "    <tr>\n",
       "      <th>1</th>\n",
       "      <td>2015-01-27 13:08:24.0000003</td>\n",
       "      <td>9.322865</td>\n",
       "    </tr>\n",
       "    <tr>\n",
       "      <th>2</th>\n",
       "      <td>2011-10-08 11:53:44.0000002</td>\n",
       "      <td>6.166053</td>\n",
       "    </tr>\n",
       "    <tr>\n",
       "      <th>3</th>\n",
       "      <td>2012-12-01 21:12:12.0000002</td>\n",
       "      <td>8.809672</td>\n",
       "    </tr>\n",
       "    <tr>\n",
       "      <th>4</th>\n",
       "      <td>2012-12-01 21:12:12.0000003</td>\n",
       "      <td>15.723586</td>\n",
       "    </tr>\n",
       "  </tbody>\n",
       "</table>\n",
       "</div>"
      ],
      "text/plain": [
       "                           key  fare_amount\n",
       "0  2015-01-27 13:08:24.0000002     8.052094\n",
       "1  2015-01-27 13:08:24.0000003     9.322865\n",
       "2  2011-10-08 11:53:44.0000002     6.166053\n",
       "3  2012-12-01 21:12:12.0000002     8.809672\n",
       "4  2012-12-01 21:12:12.0000003    15.723586"
      ]
     },
     "execution_count": 45,
     "metadata": {},
     "output_type": "execute_result"
    }
   ],
   "source": [
    "sample_new.head()"
   ]
  },
  {
   "cell_type": "code",
   "execution_count": 46,
   "metadata": {
    "execution": {
     "iopub.execute_input": "2023-02-02T23:15:37.404687Z",
     "iopub.status.busy": "2023-02-02T23:15:37.404173Z",
     "iopub.status.idle": "2023-02-02T23:15:37.444788Z",
     "shell.execute_reply": "2023-02-02T23:15:37.443295Z",
     "shell.execute_reply.started": "2023-02-02T23:15:37.404646Z"
    }
   },
   "outputs": [],
   "source": [
    "submission=sample_new.to_csv(\"submission.csv\", index=False)"
   ]
  }
 ],
 "metadata": {
  "kernelspec": {
   "display_name": "Python 3",
   "language": "python",
   "name": "python3"
  },
  "language_info": {
   "codemirror_mode": {
    "name": "ipython",
    "version": 3
   },
   "file_extension": ".py",
   "mimetype": "text/x-python",
   "name": "python",
   "nbconvert_exporter": "python",
   "pygments_lexer": "ipython3",
   "version": "3.8.8"
  }
 },
 "nbformat": 4,
 "nbformat_minor": 4
}
