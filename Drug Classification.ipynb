{
 "cells": [
  {
   "cell_type": "markdown",
   "metadata": {},
   "source": [
    "### Drug Types EDA & Classification \n",
    "\n",
    "The target feature is -> Drug type\n",
    "\n",
    "The feature sets are:\n",
    "<ul>\n",
    "<li>Age</li>\n",
    "<li>Sex</li>\n",
    "<li>Blood Pressure Levels (BP)</li>\n",
    "<li>Cholesterol Levels</li>\n",
    "<li>Na to Potassium Ration</li>\n",
    "</ul>\n",
    "\n",
    "Kaggle Link: https://www.kaggle.com/datasets/prathamtripathi/drug-classification/discussion"
   ]
  },
  {
   "cell_type": "code",
   "execution_count": 1,
   "metadata": {
    "_cell_guid": "b1076dfc-b9ad-4769-8c92-a6c4dae69d19",
    "_uuid": "8f2839f25d086af736a60e9eeb907d3b93b6e0e5",
    "execution": {
     "iopub.execute_input": "2023-02-02T23:27:46.723139Z",
     "iopub.status.busy": "2023-02-02T23:27:46.722258Z",
     "iopub.status.idle": "2023-02-02T23:27:46.763011Z",
     "shell.execute_reply": "2023-02-02T23:27:46.761500Z",
     "shell.execute_reply.started": "2023-02-02T23:27:46.723023Z"
    }
   },
   "outputs": [
    {
     "name": "stdout",
     "output_type": "stream",
     "text": [
      "/kaggle/input/drug-classification/drug200.csv\n"
     ]
    }
   ],
   "source": [
    "# This Python 3 environment comes with many helpful analytics libraries installed\n",
    "# It is defined by the kaggle/python Docker image: https://github.com/kaggle/docker-python\n",
    "# For example, here's several helpful packages to load\n",
    "\n",
    "import numpy as np # linear algebra\n",
    "import pandas as pd # data processing, CSV file I/O (e.g. pd.read_csv)\n",
    "\n",
    "# Input data files are available in the read-only \"../input/\" directory\n",
    "# For example, running this (by clicking run or pressing Shift+Enter) will list all files under the input directory\n",
    "\n",
    "import os\n",
    "for dirname, _, filenames in os.walk('/kaggle/input'):\n",
    "    for filename in filenames:\n",
    "        print(os.path.join(dirname, filename))\n",
    "\n",
    "# You can write up to 20GB to the current directory (/kaggle/working/) that gets preserved as output when you create a version using \"Save & Run All\" \n",
    "# You can also write temporary files to /kaggle/temp/, but they won't be saved outside of the current session"
   ]
  },
  {
   "cell_type": "code",
   "execution_count": 2,
   "metadata": {
    "execution": {
     "iopub.execute_input": "2023-02-02T23:34:33.568055Z",
     "iopub.status.busy": "2023-02-02T23:34:33.567652Z",
     "iopub.status.idle": "2023-02-02T23:34:34.725681Z",
     "shell.execute_reply": "2023-02-02T23:34:34.724246Z",
     "shell.execute_reply.started": "2023-02-02T23:34:33.568025Z"
    }
   },
   "outputs": [],
   "source": [
    "import matplotlib.pyplot as plt\n",
    "import seaborn as sns\n",
    "sns.set() \n",
    "from sklearn import preprocessing\n",
    "from sklearn.linear_model import LogisticRegression\n",
    "from sklearn.neighbors import KNeighborsClassifier\n",
    "from sklearn.ensemble import RandomForestClassifier\n",
    "# Model Evaluations\n",
    "from sklearn.feature_selection import f_regression\n",
    "from sklearn.model_selection import train_test_split, cross_val_score\n",
    "from sklearn.model_selection import RandomizedSearchCV, GridSearchCV\n",
    "from sklearn.metrics import confusion_matrix, classification_report\n",
    "from sklearn.metrics import precision_score, recall_score, f1_score\n",
    "from sklearn.metrics import plot_roc_curve\n",
    "\n",
    "import warnings\n",
    "warnings.filterwarnings('ignore')"
   ]
  },
  {
   "cell_type": "code",
   "execution_count": 3,
   "metadata": {
    "execution": {
     "iopub.execute_input": "2023-02-02T23:38:20.970816Z",
     "iopub.status.busy": "2023-02-02T23:38:20.970277Z",
     "iopub.status.idle": "2023-02-02T23:38:21.026700Z",
     "shell.execute_reply": "2023-02-02T23:38:21.025573Z",
     "shell.execute_reply.started": "2023-02-02T23:38:20.970776Z"
    }
   },
   "outputs": [
    {
     "data": {
      "text/html": [
       "<div>\n",
       "<style scoped>\n",
       "    .dataframe tbody tr th:only-of-type {\n",
       "        vertical-align: middle;\n",
       "    }\n",
       "\n",
       "    .dataframe tbody tr th {\n",
       "        vertical-align: top;\n",
       "    }\n",
       "\n",
       "    .dataframe thead th {\n",
       "        text-align: right;\n",
       "    }\n",
       "</style>\n",
       "<table border=\"1\" class=\"dataframe\">\n",
       "  <thead>\n",
       "    <tr style=\"text-align: right;\">\n",
       "      <th></th>\n",
       "      <th>Age</th>\n",
       "      <th>Sex</th>\n",
       "      <th>BP</th>\n",
       "      <th>Cholesterol</th>\n",
       "      <th>Na_to_K</th>\n",
       "      <th>Drug</th>\n",
       "    </tr>\n",
       "  </thead>\n",
       "  <tbody>\n",
       "    <tr>\n",
       "      <th>0</th>\n",
       "      <td>23</td>\n",
       "      <td>F</td>\n",
       "      <td>HIGH</td>\n",
       "      <td>HIGH</td>\n",
       "      <td>25.355</td>\n",
       "      <td>DrugY</td>\n",
       "    </tr>\n",
       "    <tr>\n",
       "      <th>1</th>\n",
       "      <td>47</td>\n",
       "      <td>M</td>\n",
       "      <td>LOW</td>\n",
       "      <td>HIGH</td>\n",
       "      <td>13.093</td>\n",
       "      <td>drugC</td>\n",
       "    </tr>\n",
       "    <tr>\n",
       "      <th>2</th>\n",
       "      <td>47</td>\n",
       "      <td>M</td>\n",
       "      <td>LOW</td>\n",
       "      <td>HIGH</td>\n",
       "      <td>10.114</td>\n",
       "      <td>drugC</td>\n",
       "    </tr>\n",
       "    <tr>\n",
       "      <th>3</th>\n",
       "      <td>28</td>\n",
       "      <td>F</td>\n",
       "      <td>NORMAL</td>\n",
       "      <td>HIGH</td>\n",
       "      <td>7.798</td>\n",
       "      <td>drugX</td>\n",
       "    </tr>\n",
       "    <tr>\n",
       "      <th>4</th>\n",
       "      <td>61</td>\n",
       "      <td>F</td>\n",
       "      <td>LOW</td>\n",
       "      <td>HIGH</td>\n",
       "      <td>18.043</td>\n",
       "      <td>DrugY</td>\n",
       "    </tr>\n",
       "  </tbody>\n",
       "</table>\n",
       "</div>"
      ],
      "text/plain": [
       "   Age Sex      BP Cholesterol  Na_to_K   Drug\n",
       "0   23   F    HIGH        HIGH   25.355  DrugY\n",
       "1   47   M     LOW        HIGH   13.093  drugC\n",
       "2   47   M     LOW        HIGH   10.114  drugC\n",
       "3   28   F  NORMAL        HIGH    7.798  drugX\n",
       "4   61   F     LOW        HIGH   18.043  DrugY"
      ]
     },
     "execution_count": 3,
     "metadata": {},
     "output_type": "execute_result"
    }
   ],
   "source": [
    "df = pd.read_csv(\"/kaggle/input/drug-classification/drug200.csv\")\n",
    "df.head()"
   ]
  },
  {
   "cell_type": "code",
   "execution_count": 4,
   "metadata": {
    "execution": {
     "iopub.execute_input": "2023-02-02T23:38:35.728010Z",
     "iopub.status.busy": "2023-02-02T23:38:35.727509Z",
     "iopub.status.idle": "2023-02-02T23:38:35.746083Z",
     "shell.execute_reply": "2023-02-02T23:38:35.744351Z",
     "shell.execute_reply.started": "2023-02-02T23:38:35.727972Z"
    }
   },
   "outputs": [
    {
     "data": {
      "text/plain": [
       "array(['DrugY', 'drugC', 'drugX', 'drugA', 'drugB'], dtype=object)"
      ]
     },
     "execution_count": 4,
     "metadata": {},
     "output_type": "execute_result"
    }
   ],
   "source": [
    "df['Drug'].unique()"
   ]
  },
  {
   "cell_type": "code",
   "execution_count": 9,
   "metadata": {
    "execution": {
     "iopub.execute_input": "2023-02-02T23:39:46.521184Z",
     "iopub.status.busy": "2023-02-02T23:39:46.520779Z",
     "iopub.status.idle": "2023-02-02T23:39:46.802997Z",
     "shell.execute_reply": "2023-02-02T23:39:46.801715Z",
     "shell.execute_reply.started": "2023-02-02T23:39:46.521152Z"
    }
   },
   "outputs": [
    {
     "data": {
      "image/png": "[encoded data removed]",
      "text/plain": [
       "<Figure size 432x288 with 1 Axes>"
      ]
     },
     "metadata": {},
     "output_type": "display_data"
    }
   ],
   "source": [
    "df['Drug'].value_counts().plot.bar();"
   ]
  },
  {
   "cell_type": "code",
   "execution_count": 5,
   "metadata": {
    "execution": {
     "iopub.execute_input": "2023-02-02T23:38:43.140471Z",
     "iopub.status.busy": "2023-02-02T23:38:43.140012Z",
     "iopub.status.idle": "2023-02-02T23:38:43.149509Z",
     "shell.execute_reply": "2023-02-02T23:38:43.148328Z",
     "shell.execute_reply.started": "2023-02-02T23:38:43.140437Z"
    }
   },
   "outputs": [
    {
     "data": {
      "text/plain": [
       "array(['HIGH', 'NORMAL'], dtype=object)"
      ]
     },
     "execution_count": 5,
     "metadata": {},
     "output_type": "execute_result"
    }
   ],
   "source": [
    "df['Cholesterol'].unique()"
   ]
  },
  {
   "cell_type": "code",
   "execution_count": 13,
   "metadata": {
    "execution": {
     "iopub.execute_input": "2023-02-02T23:40:25.039138Z",
     "iopub.status.busy": "2023-02-02T23:40:25.037907Z",
     "iopub.status.idle": "2023-02-02T23:40:25.242569Z",
     "shell.execute_reply": "2023-02-02T23:40:25.241450Z",
     "shell.execute_reply.started": "2023-02-02T23:40:25.039089Z"
    }
   },
   "outputs": [
    {
     "data": {
      "image/png": "[encoded data removed]",
      "text/plain": [
       "<Figure size 432x288 with 1 Axes>"
      ]
     },
     "metadata": {},
     "output_type": "display_data"
    }
   ],
   "source": [
    "df[\"Cholesterol\"].value_counts().plot.bar();"
   ]
  },
  {
   "cell_type": "code",
   "execution_count": 6,
   "metadata": {
    "execution": {
     "iopub.execute_input": "2023-02-02T23:38:50.471623Z",
     "iopub.status.busy": "2023-02-02T23:38:50.471167Z",
     "iopub.status.idle": "2023-02-02T23:38:50.480260Z",
     "shell.execute_reply": "2023-02-02T23:38:50.478914Z",
     "shell.execute_reply.started": "2023-02-02T23:38:50.471589Z"
    }
   },
   "outputs": [
    {
     "data": {
      "text/plain": [
       "array(['HIGH', 'LOW', 'NORMAL'], dtype=object)"
      ]
     },
     "execution_count": 6,
     "metadata": {},
     "output_type": "execute_result"
    }
   ],
   "source": [
    "df[\"BP\"].unique()"
   ]
  },
  {
   "cell_type": "code",
   "execution_count": 14,
   "metadata": {
    "execution": {
     "iopub.execute_input": "2023-02-02T23:40:38.995780Z",
     "iopub.status.busy": "2023-02-02T23:40:38.995331Z",
     "iopub.status.idle": "2023-02-02T23:40:39.213915Z",
     "shell.execute_reply": "2023-02-02T23:40:39.212638Z",
     "shell.execute_reply.started": "2023-02-02T23:40:38.995745Z"
    }
   },
   "outputs": [
    {
     "data": {
      "image/png": "[encoded data removed]",
      "text/plain": [
       "<Figure size 432x288 with 1 Axes>"
      ]
     },
     "metadata": {},
     "output_type": "display_data"
    }
   ],
   "source": [
    "df[\"BP\"].value_counts().plot.bar();"
   ]
  },
  {
   "cell_type": "code",
   "execution_count": 7,
   "metadata": {
    "execution": {
     "iopub.execute_input": "2023-02-02T23:39:16.182563Z",
     "iopub.status.busy": "2023-02-02T23:39:16.181360Z",
     "iopub.status.idle": "2023-02-02T23:39:16.195211Z",
     "shell.execute_reply": "2023-02-02T23:39:16.193873Z",
     "shell.execute_reply.started": "2023-02-02T23:39:16.182515Z"
    }
   },
   "outputs": [
    {
     "data": {
      "text/plain": [
       "M    104\n",
       "F     96\n",
       "Name: Sex, dtype: int64"
      ]
     },
     "execution_count": 7,
     "metadata": {},
     "output_type": "execute_result"
    }
   ],
   "source": [
    "df['Sex'].value_counts()"
   ]
  },
  {
   "cell_type": "code",
   "execution_count": 10,
   "metadata": {
    "execution": {
     "iopub.execute_input": "2023-02-02T23:39:58.532003Z",
     "iopub.status.busy": "2023-02-02T23:39:58.531390Z",
     "iopub.status.idle": "2023-02-02T23:39:58.541125Z",
     "shell.execute_reply": "2023-02-02T23:39:58.539872Z",
     "shell.execute_reply.started": "2023-02-02T23:39:58.531955Z"
    }
   },
   "outputs": [
    {
     "data": {
      "text/plain": [
       "(200, 6)"
      ]
     },
     "execution_count": 10,
     "metadata": {},
     "output_type": "execute_result"
    }
   ],
   "source": [
    "df.shape"
   ]
  },
  {
   "cell_type": "code",
   "execution_count": 15,
   "metadata": {
    "execution": {
     "iopub.execute_input": "2023-02-02T23:41:30.334317Z",
     "iopub.status.busy": "2023-02-02T23:41:30.333547Z",
     "iopub.status.idle": "2023-02-02T23:41:30.345321Z",
     "shell.execute_reply": "2023-02-02T23:41:30.344116Z",
     "shell.execute_reply.started": "2023-02-02T23:41:30.334251Z"
    }
   },
   "outputs": [],
   "source": [
    "le1 = preprocessing.LabelEncoder()\n",
    "df['Drug']= le1.fit_transform(df['Drug'])\n",
    "df['Cholesterol']= le1.fit_transform(df['Cholesterol'])\n",
    "df['BP']= le1.fit_transform(df['BP'])\n",
    "df['Sex']= le1.fit_transform(df['Sex'])"
   ]
  },
  {
   "cell_type": "code",
   "execution_count": 16,
   "metadata": {
    "execution": {
     "iopub.execute_input": "2023-02-02T23:41:33.717687Z",
     "iopub.status.busy": "2023-02-02T23:41:33.717275Z",
     "iopub.status.idle": "2023-02-02T23:41:33.730372Z",
     "shell.execute_reply": "2023-02-02T23:41:33.728965Z",
     "shell.execute_reply.started": "2023-02-02T23:41:33.717641Z"
    }
   },
   "outputs": [
    {
     "data": {
      "text/html": [
       "<div>\n",
       "<style scoped>\n",
       "    .dataframe tbody tr th:only-of-type {\n",
       "        vertical-align: middle;\n",
       "    }\n",
       "\n",
       "    .dataframe tbody tr th {\n",
       "        vertical-align: top;\n",
       "    }\n",
       "\n",
       "    .dataframe thead th {\n",
       "        text-align: right;\n",
       "    }\n",
       "</style>\n",
       "<table border=\"1\" class=\"dataframe\">\n",
       "  <thead>\n",
       "    <tr style=\"text-align: right;\">\n",
       "      <th></th>\n",
       "      <th>Age</th>\n",
       "      <th>Sex</th>\n",
       "      <th>BP</th>\n",
       "      <th>Cholesterol</th>\n",
       "      <th>Na_to_K</th>\n",
       "      <th>Drug</th>\n",
       "    </tr>\n",
       "  </thead>\n",
       "  <tbody>\n",
       "    <tr>\n",
       "      <th>0</th>\n",
       "      <td>23</td>\n",
       "      <td>0</td>\n",
       "      <td>0</td>\n",
       "      <td>0</td>\n",
       "      <td>25.355</td>\n",
       "      <td>0</td>\n",
       "    </tr>\n",
       "    <tr>\n",
       "      <th>1</th>\n",
       "      <td>47</td>\n",
       "      <td>1</td>\n",
       "      <td>1</td>\n",
       "      <td>0</td>\n",
       "      <td>13.093</td>\n",
       "      <td>3</td>\n",
       "    </tr>\n",
       "    <tr>\n",
       "      <th>2</th>\n",
       "      <td>47</td>\n",
       "      <td>1</td>\n",
       "      <td>1</td>\n",
       "      <td>0</td>\n",
       "      <td>10.114</td>\n",
       "      <td>3</td>\n",
       "    </tr>\n",
       "    <tr>\n",
       "      <th>3</th>\n",
       "      <td>28</td>\n",
       "      <td>0</td>\n",
       "      <td>2</td>\n",
       "      <td>0</td>\n",
       "      <td>7.798</td>\n",
       "      <td>4</td>\n",
       "    </tr>\n",
       "    <tr>\n",
       "      <th>4</th>\n",
       "      <td>61</td>\n",
       "      <td>0</td>\n",
       "      <td>1</td>\n",
       "      <td>0</td>\n",
       "      <td>18.043</td>\n",
       "      <td>0</td>\n",
       "    </tr>\n",
       "  </tbody>\n",
       "</table>\n",
       "</div>"
      ],
      "text/plain": [
       "   Age  Sex  BP  Cholesterol  Na_to_K  Drug\n",
       "0   23    0   0            0   25.355     0\n",
       "1   47    1   1            0   13.093     3\n",
       "2   47    1   1            0   10.114     3\n",
       "3   28    0   2            0    7.798     4\n",
       "4   61    0   1            0   18.043     0"
      ]
     },
     "execution_count": 16,
     "metadata": {},
     "output_type": "execute_result"
    }
   ],
   "source": [
    "df.head()"
   ]
  },
  {
   "cell_type": "code",
   "execution_count": 17,
   "metadata": {
    "execution": {
     "iopub.execute_input": "2023-02-02T23:41:39.556583Z",
     "iopub.status.busy": "2023-02-02T23:41:39.556145Z",
     "iopub.status.idle": "2023-02-02T23:41:39.574711Z",
     "shell.execute_reply": "2023-02-02T23:41:39.573765Z",
     "shell.execute_reply.started": "2023-02-02T23:41:39.556545Z"
    }
   },
   "outputs": [
    {
     "name": "stdout",
     "output_type": "stream",
     "text": [
      "<class 'pandas.core.frame.DataFrame'>\n",
      "RangeIndex: 200 entries, 0 to 199\n",
      "Data columns (total 6 columns):\n",
      " #   Column       Non-Null Count  Dtype  \n",
      "---  ------       --------------  -----  \n",
      " 0   Age          200 non-null    int64  \n",
      " 1   Sex          200 non-null    int64  \n",
      " 2   BP           200 non-null    int64  \n",
      " 3   Cholesterol  200 non-null    int64  \n",
      " 4   Na_to_K      200 non-null    float64\n",
      " 5   Drug         200 non-null    int64  \n",
      "dtypes: float64(1), int64(5)\n",
      "memory usage: 9.5 KB\n"
     ]
    }
   ],
   "source": [
    "df.info()"
   ]
  },
  {
   "cell_type": "code",
   "execution_count": 18,
   "metadata": {
    "execution": {
     "iopub.execute_input": "2023-02-02T23:42:00.534347Z",
     "iopub.status.busy": "2023-02-02T23:42:00.533773Z",
     "iopub.status.idle": "2023-02-02T23:42:00.548570Z",
     "shell.execute_reply": "2023-02-02T23:42:00.546924Z",
     "shell.execute_reply.started": "2023-02-02T23:42:00.534299Z"
    }
   },
   "outputs": [
    {
     "data": {
      "text/plain": [
       "Age            0\n",
       "Sex            0\n",
       "BP             0\n",
       "Cholesterol    0\n",
       "Na_to_K        0\n",
       "Drug           0\n",
       "dtype: int64"
      ]
     },
     "execution_count": 18,
     "metadata": {},
     "output_type": "execute_result"
    }
   ],
   "source": [
    "df.isnull().sum()"
   ]
  },
  {
   "cell_type": "code",
   "execution_count": 19,
   "metadata": {
    "execution": {
     "iopub.execute_input": "2023-02-02T23:42:09.689276Z",
     "iopub.status.busy": "2023-02-02T23:42:09.688803Z",
     "iopub.status.idle": "2023-02-02T23:42:09.729321Z",
     "shell.execute_reply": "2023-02-02T23:42:09.728338Z",
     "shell.execute_reply.started": "2023-02-02T23:42:09.689240Z"
    }
   },
   "outputs": [
    {
     "data": {
      "text/html": [
       "<div>\n",
       "<style scoped>\n",
       "    .dataframe tbody tr th:only-of-type {\n",
       "        vertical-align: middle;\n",
       "    }\n",
       "\n",
       "    .dataframe tbody tr th {\n",
       "        vertical-align: top;\n",
       "    }\n",
       "\n",
       "    .dataframe thead th {\n",
       "        text-align: right;\n",
       "    }\n",
       "</style>\n",
       "<table border=\"1\" class=\"dataframe\">\n",
       "  <thead>\n",
       "    <tr style=\"text-align: right;\">\n",
       "      <th></th>\n",
       "      <th>Age</th>\n",
       "      <th>Sex</th>\n",
       "      <th>BP</th>\n",
       "      <th>Cholesterol</th>\n",
       "      <th>Na_to_K</th>\n",
       "      <th>Drug</th>\n",
       "    </tr>\n",
       "  </thead>\n",
       "  <tbody>\n",
       "    <tr>\n",
       "      <th>count</th>\n",
       "      <td>200.000000</td>\n",
       "      <td>200.000000</td>\n",
       "      <td>200.000000</td>\n",
       "      <td>200.000000</td>\n",
       "      <td>200.000000</td>\n",
       "      <td>200.000000</td>\n",
       "    </tr>\n",
       "    <tr>\n",
       "      <th>mean</th>\n",
       "      <td>44.315000</td>\n",
       "      <td>0.520000</td>\n",
       "      <td>0.910000</td>\n",
       "      <td>0.485000</td>\n",
       "      <td>16.084485</td>\n",
       "      <td>1.595000</td>\n",
       "    </tr>\n",
       "    <tr>\n",
       "      <th>std</th>\n",
       "      <td>16.544315</td>\n",
       "      <td>0.500854</td>\n",
       "      <td>0.821752</td>\n",
       "      <td>0.501029</td>\n",
       "      <td>7.223956</td>\n",
       "      <td>1.716305</td>\n",
       "    </tr>\n",
       "    <tr>\n",
       "      <th>min</th>\n",
       "      <td>15.000000</td>\n",
       "      <td>0.000000</td>\n",
       "      <td>0.000000</td>\n",
       "      <td>0.000000</td>\n",
       "      <td>6.269000</td>\n",
       "      <td>0.000000</td>\n",
       "    </tr>\n",
       "    <tr>\n",
       "      <th>25%</th>\n",
       "      <td>31.000000</td>\n",
       "      <td>0.000000</td>\n",
       "      <td>0.000000</td>\n",
       "      <td>0.000000</td>\n",
       "      <td>10.445500</td>\n",
       "      <td>0.000000</td>\n",
       "    </tr>\n",
       "    <tr>\n",
       "      <th>50%</th>\n",
       "      <td>45.000000</td>\n",
       "      <td>1.000000</td>\n",
       "      <td>1.000000</td>\n",
       "      <td>0.000000</td>\n",
       "      <td>13.936500</td>\n",
       "      <td>1.000000</td>\n",
       "    </tr>\n",
       "    <tr>\n",
       "      <th>75%</th>\n",
       "      <td>58.000000</td>\n",
       "      <td>1.000000</td>\n",
       "      <td>2.000000</td>\n",
       "      <td>1.000000</td>\n",
       "      <td>19.380000</td>\n",
       "      <td>4.000000</td>\n",
       "    </tr>\n",
       "    <tr>\n",
       "      <th>max</th>\n",
       "      <td>74.000000</td>\n",
       "      <td>1.000000</td>\n",
       "      <td>2.000000</td>\n",
       "      <td>1.000000</td>\n",
       "      <td>38.247000</td>\n",
       "      <td>4.000000</td>\n",
       "    </tr>\n",
       "  </tbody>\n",
       "</table>\n",
       "</div>"
      ],
      "text/plain": [
       "              Age         Sex          BP  Cholesterol     Na_to_K        Drug\n",
       "count  200.000000  200.000000  200.000000   200.000000  200.000000  200.000000\n",
       "mean    44.315000    0.520000    0.910000     0.485000   16.084485    1.595000\n",
       "std     16.544315    0.500854    0.821752     0.501029    7.223956    1.716305\n",
       "min     15.000000    0.000000    0.000000     0.000000    6.269000    0.000000\n",
       "25%     31.000000    0.000000    0.000000     0.000000   10.445500    0.000000\n",
       "50%     45.000000    1.000000    1.000000     0.000000   13.936500    1.000000\n",
       "75%     58.000000    1.000000    2.000000     1.000000   19.380000    4.000000\n",
       "max     74.000000    1.000000    2.000000     1.000000   38.247000    4.000000"
      ]
     },
     "execution_count": 19,
     "metadata": {},
     "output_type": "execute_result"
    }
   ],
   "source": [
    "df.describe()"
   ]
  },
  {
   "cell_type": "code",
   "execution_count": 20,
   "metadata": {
    "execution": {
     "iopub.execute_input": "2023-02-02T23:42:23.499867Z",
     "iopub.status.busy": "2023-02-02T23:42:23.499335Z",
     "iopub.status.idle": "2023-02-02T23:42:23.789367Z",
     "shell.execute_reply": "2023-02-02T23:42:23.787759Z",
     "shell.execute_reply.started": "2023-02-02T23:42:23.499829Z"
    }
   },
   "outputs": [
    {
     "data": {
      "image/png": "[encoded data removed]",
      "text/plain": [
       "<Figure size 720x432 with 1 Axes>"
      ]
     },
     "metadata": {},
     "output_type": "display_data"
    }
   ],
   "source": [
    "pd.crosstab(df[\"Drug\"], df[\"Sex\"]).plot(kind=\"bar\",figsize=(10, 6))\n",
    "plt.title(\"Drug vs Sex\")\n",
    "plt.xlabel(\"Drug Type\")\n",
    "plt.ylabel(\"Sex\")\n",
    "plt.xticks(rotation=0);"
   ]
  },
  {
   "cell_type": "code",
   "execution_count": 21,
   "metadata": {
    "execution": {
     "iopub.execute_input": "2023-02-02T23:43:00.657069Z",
     "iopub.status.busy": "2023-02-02T23:43:00.656562Z",
     "iopub.status.idle": "2023-02-02T23:43:00.966959Z",
     "shell.execute_reply": "2023-02-02T23:43:00.965982Z",
     "shell.execute_reply.started": "2023-02-02T23:43:00.657030Z"
    }
   },
   "outputs": [
    {
     "data": {
      "image/png": "[encoded data removed]",
      "text/plain": [
       "<Figure size 720x432 with 1 Axes>"
      ]
     },
     "metadata": {},
     "output_type": "display_data"
    }
   ],
   "source": [
    "pd.crosstab(df[\"Drug\"], df[\"BP\"]).plot(kind=\"bar\",figsize=(10, 6))\n",
    "plt.title(\"Drug vs BP\")\n",
    "plt.xlabel(\"Drug Type\")\n",
    "plt.ylabel(\"BP\")\n",
    "plt.xticks(rotation=0);"
   ]
  },
  {
   "cell_type": "code",
   "execution_count": 22,
   "metadata": {
    "execution": {
     "iopub.execute_input": "2023-02-02T23:43:21.029103Z",
     "iopub.status.busy": "2023-02-02T23:43:21.028566Z",
     "iopub.status.idle": "2023-02-02T23:43:21.316436Z",
     "shell.execute_reply": "2023-02-02T23:43:21.315290Z",
     "shell.execute_reply.started": "2023-02-02T23:43:21.029065Z"
    }
   },
   "outputs": [
    {
     "data": {
      "image/png": "[encoded data removed]",
      "text/plain": [
       "<Figure size 720x432 with 1 Axes>"
      ]
     },
     "metadata": {},
     "output_type": "display_data"
    }
   ],
   "source": [
    "pd.crosstab(df[\"Drug\"], df[\"Cholesterol\"]).plot(kind=\"bar\",figsize=(10, 6))\n",
    "plt.title(\"Drug vs Cholesterol\")\n",
    "plt.xlabel(\"Drug Type\")\n",
    "plt.ylabel(\"Cholesterol\")\n",
    "plt.xticks(rotation=0);"
   ]
  },
  {
   "cell_type": "code",
   "execution_count": 25,
   "metadata": {
    "execution": {
     "iopub.execute_input": "2023-02-02T23:44:47.443776Z",
     "iopub.status.busy": "2023-02-02T23:44:47.443226Z",
     "iopub.status.idle": "2023-02-02T23:44:47.884765Z",
     "shell.execute_reply": "2023-02-02T23:44:47.883452Z",
     "shell.execute_reply.started": "2023-02-02T23:44:47.443728Z"
    }
   },
   "outputs": [
    {
     "data": {
      "image/png": "[encoded data removed]",
      "text/plain": [
       "<Figure size 720x432 with 2 Axes>"
      ]
     },
     "metadata": {},
     "output_type": "display_data"
    }
   ],
   "source": [
    "plt.figure(figsize=(10,6))\n",
    "x = sns.heatmap(df.corr(),annot=True)"
   ]
  },
  {
   "cell_type": "markdown",
   "metadata": {},
   "source": [
    "### Conclusion:\n",
    "<ul>\n",
    "<li>DrugY -> Drug Type 0 is the highest usage</li>\n",
    "<li>Cholesterol Type 1 cannot have Drug Type 3</li>\n",
    "<li>Drugs are also almost equally distributed among the genders male and female.</li>\n",
    "</ul>"
   ]
  },
  {
   "cell_type": "code",
   "execution_count": 26,
   "metadata": {
    "execution": {
     "iopub.execute_input": "2023-02-02T23:48:40.834157Z",
     "iopub.status.busy": "2023-02-02T23:48:40.833038Z",
     "iopub.status.idle": "2023-02-02T23:48:40.840560Z",
     "shell.execute_reply": "2023-02-02T23:48:40.838941Z",
     "shell.execute_reply.started": "2023-02-02T23:48:40.834110Z"
    }
   },
   "outputs": [],
   "source": [
    "# Split data into train and test sets\n",
    "np.random.seed(42)"
   ]
  },
  {
   "cell_type": "code",
   "execution_count": 27,
   "metadata": {
    "execution": {
     "iopub.execute_input": "2023-02-02T23:49:01.273965Z",
     "iopub.status.busy": "2023-02-02T23:49:01.273434Z",
     "iopub.status.idle": "2023-02-02T23:49:01.285837Z",
     "shell.execute_reply": "2023-02-02T23:49:01.284270Z",
     "shell.execute_reply.started": "2023-02-02T23:49:01.273925Z"
    }
   },
   "outputs": [],
   "source": [
    "x_train, x_test, y_train, y_test = train_test_split(df.drop(\"Drug\", axis = 1),df[\"Drug\"],test_size=0.1)"
   ]
  },
  {
   "cell_type": "code",
   "execution_count": 28,
   "metadata": {
    "execution": {
     "iopub.execute_input": "2023-02-02T23:49:48.082711Z",
     "iopub.status.busy": "2023-02-02T23:49:48.082283Z",
     "iopub.status.idle": "2023-02-02T23:49:48.095841Z",
     "shell.execute_reply": "2023-02-02T23:49:48.093097Z",
     "shell.execute_reply.started": "2023-02-02T23:49:48.082661Z"
    }
   },
   "outputs": [],
   "source": [
    "x = df.drop(\"Drug\", axis = 1)\n",
    "y = df[\"Drug\"]\n",
    "\n",
    "p_values = f_regression(x,y)[1]"
   ]
  },
  {
   "cell_type": "code",
   "execution_count": 29,
   "metadata": {
    "execution": {
     "iopub.execute_input": "2023-02-02T23:50:37.486265Z",
     "iopub.status.busy": "2023-02-02T23:50:37.485793Z",
     "iopub.status.idle": "2023-02-02T23:50:37.497795Z",
     "shell.execute_reply": "2023-02-02T23:50:37.496439Z",
     "shell.execute_reply.started": "2023-02-02T23:50:37.486231Z"
    }
   },
   "outputs": [
    {
     "data": {
      "text/plain": [
       "[{'Age': 0.556},\n",
       " {'Sex': 0.798},\n",
       " {'BP': 0.0},\n",
       " {'Cholesterol': 0.496},\n",
       " {'Na_to_K': 0.0}]"
      ]
     },
     "execution_count": 29,
     "metadata": {},
     "output_type": "execute_result"
    }
   ],
   "source": [
    "columns_list = []\n",
    "\n",
    "col = list(df.columns)\n",
    "iter_df = 0\n",
    "\n",
    "for value in p_values:\n",
    "    if col[iter_df] == \"close\":\n",
    "        iter_df += 1\n",
    "        \n",
    "    columns_list.append({col[iter_df] : value.round(3)})\n",
    "    iter_df += 1\n",
    "    \n",
    "columns_list"
   ]
  },
  {
   "cell_type": "code",
   "execution_count": 30,
   "metadata": {
    "execution": {
     "iopub.execute_input": "2023-02-02T23:51:34.515008Z",
     "iopub.status.busy": "2023-02-02T23:51:34.513590Z",
     "iopub.status.idle": "2023-02-02T23:51:34.522234Z",
     "shell.execute_reply": "2023-02-02T23:51:34.521256Z",
     "shell.execute_reply.started": "2023-02-02T23:51:34.514953Z"
    }
   },
   "outputs": [],
   "source": [
    "# Put models in a dictionary\n",
    "models = {\"KNN\": KNeighborsClassifier(),\"Random Forest\": RandomForestClassifier()}\n",
    "\n",
    "# Create a function to fit and score models\n",
    "def fit_and_score(models, x_train, x_test, y_train, y_test):\n",
    "    np.random.seed(42)\n",
    "    # Make a dictionary to keep model scores\n",
    "    model_scores = {}\n",
    "    for name, model in models.items():\n",
    "        # Fit the model to the data\n",
    "        model.fit(x_train, y_train)\n",
    "        # Evaluate the model and append its score to model_scores\n",
    "        model_scores[name] = model.score(x_test, y_test)\n",
    "    return model_scores"
   ]
  },
  {
   "cell_type": "code",
   "execution_count": 32,
   "metadata": {
    "execution": {
     "iopub.execute_input": "2023-02-02T23:52:15.325854Z",
     "iopub.status.busy": "2023-02-02T23:52:15.325372Z",
     "iopub.status.idle": "2023-02-02T23:52:15.501933Z",
     "shell.execute_reply": "2023-02-02T23:52:15.500341Z",
     "shell.execute_reply.started": "2023-02-02T23:52:15.325819Z"
    }
   },
   "outputs": [
    {
     "name": "stdout",
     "output_type": "stream",
     "text": [
      "{'KNN': 0.6, 'Random Forest': 1.0}\n"
     ]
    }
   ],
   "source": [
    "model_scores = fit_and_score(models=models,x_train=x_train,x_test=x_test,y_train=y_train,y_test=y_test)\n",
    "print(model_scores)"
   ]
  },
  {
   "cell_type": "code",
   "execution_count": 33,
   "metadata": {
    "execution": {
     "iopub.execute_input": "2023-02-02T23:52:26.103102Z",
     "iopub.status.busy": "2023-02-02T23:52:26.102616Z",
     "iopub.status.idle": "2023-02-02T23:52:26.335578Z",
     "shell.execute_reply": "2023-02-02T23:52:26.333925Z",
     "shell.execute_reply.started": "2023-02-02T23:52:26.103066Z"
    }
   },
   "outputs": [
    {
     "data": {
      "image/png": "[encoded data removed]",
      "text/plain": [
       "<Figure size 432x288 with 1 Axes>"
      ]
     },
     "metadata": {},
     "output_type": "display_data"
    }
   ],
   "source": [
    "model_compare = pd.DataFrame(model_scores, index=[\"accuracy\"])\n",
    "model_compare.T.plot.bar();"
   ]
  }
 ],
 "metadata": {
  "kernelspec": {
   "display_name": "Python 3",
   "language": "python",
   "name": "python3"
  },
  "language_info": {
   "codemirror_mode": {
    "name": "ipython",
    "version": 3
   },
   "file_extension": ".py",
   "mimetype": "text/x-python",
   "name": "python",
   "nbconvert_exporter": "python",
   "pygments_lexer": "ipython3",
   "version": "3.8.8"
  }
 },
 "nbformat": 4,
 "nbformat_minor": 4
}
